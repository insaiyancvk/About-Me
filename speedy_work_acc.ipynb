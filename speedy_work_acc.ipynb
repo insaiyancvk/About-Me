{
  "nbformat": 4,
  "nbformat_minor": 0,
  "metadata": {
    "colab": {
      "name": "speedy work acc.ipynb",
      "provenance": [],
      "collapsed_sections": [],
      "machine_shape": "hm",
      "include_colab_link": true
    },
    "kernelspec": {
      "name": "python3",
      "display_name": "Python 3"
    },
    "language_info": {
      "name": "python"
    },
    "widgets": {
      "application/vnd.jupyter.widget-state+json": {
        "3650ff138bf64024b05d1538d6b8e625": {
          "model_module": "@jupyter-widgets/controls",
          "model_name": "HBoxModel",
          "model_module_version": "1.5.0",
          "state": {
            "_view_name": "HBoxView",
            "_dom_classes": [],
            "_model_name": "HBoxModel",
            "_view_module": "@jupyter-widgets/controls",
            "_model_module_version": "1.5.0",
            "_view_count": null,
            "_view_module_version": "1.5.0",
            "box_style": "",
            "layout": "IPY_MODEL_612da938bda74fbca84c6909dca93395",
            "_model_module": "@jupyter-widgets/controls",
            "children": [
              "IPY_MODEL_0493b4f0c7cf41f5b19917c5bacb9067",
              "IPY_MODEL_bf555bfc56704d3caf82061c9b3bb392",
              "IPY_MODEL_e232cd8961bf4685b8ded49971651016"
            ]
          }
        },
        "612da938bda74fbca84c6909dca93395": {
          "model_module": "@jupyter-widgets/base",
          "model_name": "LayoutModel",
          "model_module_version": "1.2.0",
          "state": {
            "_view_name": "LayoutView",
            "grid_template_rows": null,
            "right": null,
            "justify_content": null,
            "_view_module": "@jupyter-widgets/base",
            "overflow": null,
            "_model_module_version": "1.2.0",
            "_view_count": null,
            "flex_flow": null,
            "width": null,
            "min_width": null,
            "border": null,
            "align_items": null,
            "bottom": null,
            "_model_module": "@jupyter-widgets/base",
            "top": null,
            "grid_column": null,
            "overflow_y": null,
            "overflow_x": null,
            "grid_auto_flow": null,
            "grid_area": null,
            "grid_template_columns": null,
            "flex": null,
            "_model_name": "LayoutModel",
            "justify_items": null,
            "grid_row": null,
            "max_height": null,
            "align_content": null,
            "visibility": null,
            "align_self": null,
            "height": null,
            "min_height": null,
            "padding": null,
            "grid_auto_rows": null,
            "grid_gap": null,
            "max_width": null,
            "order": null,
            "_view_module_version": "1.2.0",
            "grid_template_areas": null,
            "object_position": null,
            "object_fit": null,
            "grid_auto_columns": null,
            "margin": null,
            "display": null,
            "left": null
          }
        },
        "0493b4f0c7cf41f5b19917c5bacb9067": {
          "model_module": "@jupyter-widgets/controls",
          "model_name": "HTMLModel",
          "model_module_version": "1.5.0",
          "state": {
            "_view_name": "HTMLView",
            "style": "IPY_MODEL_c39dbe50f1c84127b12a1e868b665a0b",
            "_dom_classes": [],
            "description": "",
            "_model_name": "HTMLModel",
            "placeholder": "​",
            "_view_module": "@jupyter-widgets/controls",
            "_model_module_version": "1.5.0",
            "value": "Extracting: 100%",
            "_view_count": null,
            "_view_module_version": "1.5.0",
            "description_tooltip": null,
            "_model_module": "@jupyter-widgets/controls",
            "layout": "IPY_MODEL_14111bb0072e47a384c82a4cfc368138"
          }
        },
        "bf555bfc56704d3caf82061c9b3bb392": {
          "model_module": "@jupyter-widgets/controls",
          "model_name": "FloatProgressModel",
          "model_module_version": "1.5.0",
          "state": {
            "_view_name": "ProgressView",
            "style": "IPY_MODEL_49169aeafc3b42aba6199f495fcc5e63",
            "_dom_classes": [],
            "description": "",
            "_model_name": "FloatProgressModel",
            "bar_style": "success",
            "max": 6802,
            "_view_module": "@jupyter-widgets/controls",
            "_model_module_version": "1.5.0",
            "value": 6802,
            "_view_count": null,
            "_view_module_version": "1.5.0",
            "orientation": "horizontal",
            "min": 0,
            "description_tooltip": null,
            "_model_module": "@jupyter-widgets/controls",
            "layout": "IPY_MODEL_6724fb06d59f4e05a1941532e4c414bb"
          }
        },
        "e232cd8961bf4685b8ded49971651016": {
          "model_module": "@jupyter-widgets/controls",
          "model_name": "HTMLModel",
          "model_module_version": "1.5.0",
          "state": {
            "_view_name": "HTMLView",
            "style": "IPY_MODEL_5f69849cc67344028224af8e19d9be75",
            "_dom_classes": [],
            "description": "",
            "_model_name": "HTMLModel",
            "placeholder": "​",
            "_view_module": "@jupyter-widgets/controls",
            "_model_module_version": "1.5.0",
            "value": " 6802/6802 [00:11&lt;00:00, 564.52it/s]",
            "_view_count": null,
            "_view_module_version": "1.5.0",
            "description_tooltip": null,
            "_model_module": "@jupyter-widgets/controls",
            "layout": "IPY_MODEL_286ec57ce49447928ef6c0c305ab37e4"
          }
        },
        "c39dbe50f1c84127b12a1e868b665a0b": {
          "model_module": "@jupyter-widgets/controls",
          "model_name": "DescriptionStyleModel",
          "model_module_version": "1.5.0",
          "state": {
            "_view_name": "StyleView",
            "_model_name": "DescriptionStyleModel",
            "description_width": "",
            "_view_module": "@jupyter-widgets/base",
            "_model_module_version": "1.5.0",
            "_view_count": null,
            "_view_module_version": "1.2.0",
            "_model_module": "@jupyter-widgets/controls"
          }
        },
        "14111bb0072e47a384c82a4cfc368138": {
          "model_module": "@jupyter-widgets/base",
          "model_name": "LayoutModel",
          "model_module_version": "1.2.0",
          "state": {
            "_view_name": "LayoutView",
            "grid_template_rows": null,
            "right": null,
            "justify_content": null,
            "_view_module": "@jupyter-widgets/base",
            "overflow": null,
            "_model_module_version": "1.2.0",
            "_view_count": null,
            "flex_flow": null,
            "width": null,
            "min_width": null,
            "border": null,
            "align_items": null,
            "bottom": null,
            "_model_module": "@jupyter-widgets/base",
            "top": null,
            "grid_column": null,
            "overflow_y": null,
            "overflow_x": null,
            "grid_auto_flow": null,
            "grid_area": null,
            "grid_template_columns": null,
            "flex": null,
            "_model_name": "LayoutModel",
            "justify_items": null,
            "grid_row": null,
            "max_height": null,
            "align_content": null,
            "visibility": null,
            "align_self": null,
            "height": null,
            "min_height": null,
            "padding": null,
            "grid_auto_rows": null,
            "grid_gap": null,
            "max_width": null,
            "order": null,
            "_view_module_version": "1.2.0",
            "grid_template_areas": null,
            "object_position": null,
            "object_fit": null,
            "grid_auto_columns": null,
            "margin": null,
            "display": null,
            "left": null
          }
        },
        "49169aeafc3b42aba6199f495fcc5e63": {
          "model_module": "@jupyter-widgets/controls",
          "model_name": "ProgressStyleModel",
          "model_module_version": "1.5.0",
          "state": {
            "_view_name": "StyleView",
            "_model_name": "ProgressStyleModel",
            "description_width": "",
            "_view_module": "@jupyter-widgets/base",
            "_model_module_version": "1.5.0",
            "_view_count": null,
            "_view_module_version": "1.2.0",
            "bar_color": null,
            "_model_module": "@jupyter-widgets/controls"
          }
        },
        "6724fb06d59f4e05a1941532e4c414bb": {
          "model_module": "@jupyter-widgets/base",
          "model_name": "LayoutModel",
          "model_module_version": "1.2.0",
          "state": {
            "_view_name": "LayoutView",
            "grid_template_rows": null,
            "right": null,
            "justify_content": null,
            "_view_module": "@jupyter-widgets/base",
            "overflow": null,
            "_model_module_version": "1.2.0",
            "_view_count": null,
            "flex_flow": null,
            "width": null,
            "min_width": null,
            "border": null,
            "align_items": null,
            "bottom": null,
            "_model_module": "@jupyter-widgets/base",
            "top": null,
            "grid_column": null,
            "overflow_y": null,
            "overflow_x": null,
            "grid_auto_flow": null,
            "grid_area": null,
            "grid_template_columns": null,
            "flex": null,
            "_model_name": "LayoutModel",
            "justify_items": null,
            "grid_row": null,
            "max_height": null,
            "align_content": null,
            "visibility": null,
            "align_self": null,
            "height": null,
            "min_height": null,
            "padding": null,
            "grid_auto_rows": null,
            "grid_gap": null,
            "max_width": null,
            "order": null,
            "_view_module_version": "1.2.0",
            "grid_template_areas": null,
            "object_position": null,
            "object_fit": null,
            "grid_auto_columns": null,
            "margin": null,
            "display": null,
            "left": null
          }
        },
        "5f69849cc67344028224af8e19d9be75": {
          "model_module": "@jupyter-widgets/controls",
          "model_name": "DescriptionStyleModel",
          "model_module_version": "1.5.0",
          "state": {
            "_view_name": "StyleView",
            "_model_name": "DescriptionStyleModel",
            "description_width": "",
            "_view_module": "@jupyter-widgets/base",
            "_model_module_version": "1.5.0",
            "_view_count": null,
            "_view_module_version": "1.2.0",
            "_model_module": "@jupyter-widgets/controls"
          }
        },
        "286ec57ce49447928ef6c0c305ab37e4": {
          "model_module": "@jupyter-widgets/base",
          "model_name": "LayoutModel",
          "model_module_version": "1.2.0",
          "state": {
            "_view_name": "LayoutView",
            "grid_template_rows": null,
            "right": null,
            "justify_content": null,
            "_view_module": "@jupyter-widgets/base",
            "overflow": null,
            "_model_module_version": "1.2.0",
            "_view_count": null,
            "flex_flow": null,
            "width": null,
            "min_width": null,
            "border": null,
            "align_items": null,
            "bottom": null,
            "_model_module": "@jupyter-widgets/base",
            "top": null,
            "grid_column": null,
            "overflow_y": null,
            "overflow_x": null,
            "grid_auto_flow": null,
            "grid_area": null,
            "grid_template_columns": null,
            "flex": null,
            "_model_name": "LayoutModel",
            "justify_items": null,
            "grid_row": null,
            "max_height": null,
            "align_content": null,
            "visibility": null,
            "align_self": null,
            "height": null,
            "min_height": null,
            "padding": null,
            "grid_auto_rows": null,
            "grid_gap": null,
            "max_width": null,
            "order": null,
            "_view_module_version": "1.2.0",
            "grid_template_areas": null,
            "object_position": null,
            "object_fit": null,
            "grid_auto_columns": null,
            "margin": null,
            "display": null,
            "left": null
          }
        },
        "b12038dec0284a6799ab2d7ce5b4210e": {
          "model_module": "@jupyter-widgets/controls",
          "model_name": "HBoxModel",
          "model_module_version": "1.5.0",
          "state": {
            "_view_name": "HBoxView",
            "_dom_classes": [],
            "_model_name": "HBoxModel",
            "_view_module": "@jupyter-widgets/controls",
            "_model_module_version": "1.5.0",
            "_view_count": null,
            "_view_module_version": "1.5.0",
            "box_style": "",
            "layout": "IPY_MODEL_5db894aa7a07416f86019488fa638e4b",
            "_model_module": "@jupyter-widgets/controls",
            "children": [
              "IPY_MODEL_12b4761a24e44e70a7c5b7e5e1aba48c",
              "IPY_MODEL_e04b389029ab4e71a802aa3a2b87c9b8",
              "IPY_MODEL_de0ebb0c508a452cb2ae4b8b7cbf3f81"
            ]
          }
        },
        "5db894aa7a07416f86019488fa638e4b": {
          "model_module": "@jupyter-widgets/base",
          "model_name": "LayoutModel",
          "model_module_version": "1.2.0",
          "state": {
            "_view_name": "LayoutView",
            "grid_template_rows": null,
            "right": null,
            "justify_content": null,
            "_view_module": "@jupyter-widgets/base",
            "overflow": null,
            "_model_module_version": "1.2.0",
            "_view_count": null,
            "flex_flow": null,
            "width": null,
            "min_width": null,
            "border": null,
            "align_items": null,
            "bottom": null,
            "_model_module": "@jupyter-widgets/base",
            "top": null,
            "grid_column": null,
            "overflow_y": null,
            "overflow_x": null,
            "grid_auto_flow": null,
            "grid_area": null,
            "grid_template_columns": null,
            "flex": null,
            "_model_name": "LayoutModel",
            "justify_items": null,
            "grid_row": null,
            "max_height": null,
            "align_content": null,
            "visibility": null,
            "align_self": null,
            "height": null,
            "min_height": null,
            "padding": null,
            "grid_auto_rows": null,
            "grid_gap": null,
            "max_width": null,
            "order": null,
            "_view_module_version": "1.2.0",
            "grid_template_areas": null,
            "object_position": null,
            "object_fit": null,
            "grid_auto_columns": null,
            "margin": null,
            "display": null,
            "left": null
          }
        },
        "12b4761a24e44e70a7c5b7e5e1aba48c": {
          "model_module": "@jupyter-widgets/controls",
          "model_name": "HTMLModel",
          "model_module_version": "1.5.0",
          "state": {
            "_view_name": "HTMLView",
            "style": "IPY_MODEL_ca33b5ba4aff4bfd88136bc44cb8d252",
            "_dom_classes": [],
            "description": "",
            "_model_name": "HTMLModel",
            "placeholder": "​",
            "_view_module": "@jupyter-widgets/controls",
            "_model_module_version": "1.5.0",
            "value": " 66%",
            "_view_count": null,
            "_view_module_version": "1.5.0",
            "description_tooltip": null,
            "_model_module": "@jupyter-widgets/controls",
            "layout": "IPY_MODEL_479065b4f3394190888ff7aa33eb43da"
          }
        },
        "e04b389029ab4e71a802aa3a2b87c9b8": {
          "model_module": "@jupyter-widgets/controls",
          "model_name": "FloatProgressModel",
          "model_module_version": "1.5.0",
          "state": {
            "_view_name": "ProgressView",
            "style": "IPY_MODEL_93697c7e9bb94ebd90a2f3cdb7563137",
            "_dom_classes": [],
            "description": "",
            "_model_name": "FloatProgressModel",
            "bar_style": "",
            "max": 170,
            "_view_module": "@jupyter-widgets/controls",
            "_model_module_version": "1.5.0",
            "value": 113,
            "_view_count": null,
            "_view_module_version": "1.5.0",
            "orientation": "horizontal",
            "min": 0,
            "description_tooltip": null,
            "_model_module": "@jupyter-widgets/controls",
            "layout": "IPY_MODEL_1d861d4e7350470789ddea438058079b"
          }
        },
        "de0ebb0c508a452cb2ae4b8b7cbf3f81": {
          "model_module": "@jupyter-widgets/controls",
          "model_name": "HTMLModel",
          "model_module_version": "1.5.0",
          "state": {
            "_view_name": "HTMLView",
            "style": "IPY_MODEL_e61551b059474274ae460a8283e01761",
            "_dom_classes": [],
            "description": "",
            "_model_name": "HTMLModel",
            "placeholder": "​",
            "_view_module": "@jupyter-widgets/controls",
            "_model_module_version": "1.5.0",
            "value": " 113/170 [02:32&lt;01:16,  1.34s/it]",
            "_view_count": null,
            "_view_module_version": "1.5.0",
            "description_tooltip": null,
            "_model_module": "@jupyter-widgets/controls",
            "layout": "IPY_MODEL_94156edabb68447c8f399e5fc64ae81f"
          }
        },
        "ca33b5ba4aff4bfd88136bc44cb8d252": {
          "model_module": "@jupyter-widgets/controls",
          "model_name": "DescriptionStyleModel",
          "model_module_version": "1.5.0",
          "state": {
            "_view_name": "StyleView",
            "_model_name": "DescriptionStyleModel",
            "description_width": "",
            "_view_module": "@jupyter-widgets/base",
            "_model_module_version": "1.5.0",
            "_view_count": null,
            "_view_module_version": "1.2.0",
            "_model_module": "@jupyter-widgets/controls"
          }
        },
        "479065b4f3394190888ff7aa33eb43da": {
          "model_module": "@jupyter-widgets/base",
          "model_name": "LayoutModel",
          "model_module_version": "1.2.0",
          "state": {
            "_view_name": "LayoutView",
            "grid_template_rows": null,
            "right": null,
            "justify_content": null,
            "_view_module": "@jupyter-widgets/base",
            "overflow": null,
            "_model_module_version": "1.2.0",
            "_view_count": null,
            "flex_flow": null,
            "width": null,
            "min_width": null,
            "border": null,
            "align_items": null,
            "bottom": null,
            "_model_module": "@jupyter-widgets/base",
            "top": null,
            "grid_column": null,
            "overflow_y": null,
            "overflow_x": null,
            "grid_auto_flow": null,
            "grid_area": null,
            "grid_template_columns": null,
            "flex": null,
            "_model_name": "LayoutModel",
            "justify_items": null,
            "grid_row": null,
            "max_height": null,
            "align_content": null,
            "visibility": null,
            "align_self": null,
            "height": null,
            "min_height": null,
            "padding": null,
            "grid_auto_rows": null,
            "grid_gap": null,
            "max_width": null,
            "order": null,
            "_view_module_version": "1.2.0",
            "grid_template_areas": null,
            "object_position": null,
            "object_fit": null,
            "grid_auto_columns": null,
            "margin": null,
            "display": null,
            "left": null
          }
        },
        "93697c7e9bb94ebd90a2f3cdb7563137": {
          "model_module": "@jupyter-widgets/controls",
          "model_name": "ProgressStyleModel",
          "model_module_version": "1.5.0",
          "state": {
            "_view_name": "StyleView",
            "_model_name": "ProgressStyleModel",
            "description_width": "",
            "_view_module": "@jupyter-widgets/base",
            "_model_module_version": "1.5.0",
            "_view_count": null,
            "_view_module_version": "1.2.0",
            "bar_color": null,
            "_model_module": "@jupyter-widgets/controls"
          }
        },
        "1d861d4e7350470789ddea438058079b": {
          "model_module": "@jupyter-widgets/base",
          "model_name": "LayoutModel",
          "model_module_version": "1.2.0",
          "state": {
            "_view_name": "LayoutView",
            "grid_template_rows": null,
            "right": null,
            "justify_content": null,
            "_view_module": "@jupyter-widgets/base",
            "overflow": null,
            "_model_module_version": "1.2.0",
            "_view_count": null,
            "flex_flow": null,
            "width": null,
            "min_width": null,
            "border": null,
            "align_items": null,
            "bottom": null,
            "_model_module": "@jupyter-widgets/base",
            "top": null,
            "grid_column": null,
            "overflow_y": null,
            "overflow_x": null,
            "grid_auto_flow": null,
            "grid_area": null,
            "grid_template_columns": null,
            "flex": null,
            "_model_name": "LayoutModel",
            "justify_items": null,
            "grid_row": null,
            "max_height": null,
            "align_content": null,
            "visibility": null,
            "align_self": null,
            "height": null,
            "min_height": null,
            "padding": null,
            "grid_auto_rows": null,
            "grid_gap": null,
            "max_width": null,
            "order": null,
            "_view_module_version": "1.2.0",
            "grid_template_areas": null,
            "object_position": null,
            "object_fit": null,
            "grid_auto_columns": null,
            "margin": null,
            "display": null,
            "left": null
          }
        },
        "e61551b059474274ae460a8283e01761": {
          "model_module": "@jupyter-widgets/controls",
          "model_name": "DescriptionStyleModel",
          "model_module_version": "1.5.0",
          "state": {
            "_view_name": "StyleView",
            "_model_name": "DescriptionStyleModel",
            "description_width": "",
            "_view_module": "@jupyter-widgets/base",
            "_model_module_version": "1.5.0",
            "_view_count": null,
            "_view_module_version": "1.2.0",
            "_model_module": "@jupyter-widgets/controls"
          }
        },
        "94156edabb68447c8f399e5fc64ae81f": {
          "model_module": "@jupyter-widgets/base",
          "model_name": "LayoutModel",
          "model_module_version": "1.2.0",
          "state": {
            "_view_name": "LayoutView",
            "grid_template_rows": null,
            "right": null,
            "justify_content": null,
            "_view_module": "@jupyter-widgets/base",
            "overflow": null,
            "_model_module_version": "1.2.0",
            "_view_count": null,
            "flex_flow": null,
            "width": null,
            "min_width": null,
            "border": null,
            "align_items": null,
            "bottom": null,
            "_model_module": "@jupyter-widgets/base",
            "top": null,
            "grid_column": null,
            "overflow_y": null,
            "overflow_x": null,
            "grid_auto_flow": null,
            "grid_area": null,
            "grid_template_columns": null,
            "flex": null,
            "_model_name": "LayoutModel",
            "justify_items": null,
            "grid_row": null,
            "max_height": null,
            "align_content": null,
            "visibility": null,
            "align_self": null,
            "height": null,
            "min_height": null,
            "padding": null,
            "grid_auto_rows": null,
            "grid_gap": null,
            "max_width": null,
            "order": null,
            "_view_module_version": "1.2.0",
            "grid_template_areas": null,
            "object_position": null,
            "object_fit": null,
            "grid_auto_columns": null,
            "margin": null,
            "display": null,
            "left": null
          }
        }
      }
    },
    "accelerator": "GPU"
  },
  "cells": [
    {
      "cell_type": "markdown",
      "metadata": {
        "id": "view-in-github",
        "colab_type": "text"
      },
      "source": [
        "<a href=\"https://colab.research.google.com/github/insaiyancvk/About-Me/blob/master/speedy_work_acc.ipynb\" target=\"_parent\"><img src=\"https://colab.research.google.com/assets/colab-badge.svg\" alt=\"Open In Colab\"/></a>"
      ]
    },
    {
      "cell_type": "markdown",
      "metadata": {
        "id": "4UjHGrv6t_tj"
      },
      "source": [
        "## Starting with Left/Right work"
      ]
    },
    {
      "cell_type": "code",
      "metadata": {
        "colab": {
          "base_uri": "https://localhost:8080/"
        },
        "id": "C0Nm05DdZax3",
        "outputId": "f83c5ebb-4b91-47bf-cf00-e1f6c80e61ba"
      },
      "source": [
        "from google.colab import drive\n",
        "drive.mount('/content/drive')\n",
        "# from IPython.display import Image\n",
        "!pip install -q python-telegram-bot"
      ],
      "execution_count": 1,
      "outputs": [
        {
          "output_type": "stream",
          "name": "stdout",
          "text": [
            "Mounted at /content/drive\n",
            "\u001b[K     |████████████████████████████████| 490 kB 5.1 MB/s \n",
            "\u001b[K     |████████████████████████████████| 58 kB 5.9 MB/s \n",
            "\u001b[K     |████████████████████████████████| 428 kB 42.2 MB/s \n",
            "\u001b[31mERROR: pip's dependency resolver does not currently take into account all the packages that are installed. This behaviour is the source of the following dependency conflicts.\n",
            "google-colab 1.0.0 requires tornado~=5.1.0; python_version >= \"3.0\", but you have tornado 6.1 which is incompatible.\u001b[0m\n",
            "\u001b[?25h"
          ]
        }
      ]
    },
    {
      "cell_type": "markdown",
      "metadata": {
        "id": "BEL1oDsaDU_Z"
      },
      "source": [
        "TRY MOBILENETV2"
      ]
    },
    {
      "cell_type": "code",
      "metadata": {
        "colab": {
          "base_uri": "https://localhost:8080/"
        },
        "id": "8W_vojderBBd",
        "outputId": "58c02f96-b349-4748-cd03-e64d668d9a25"
      },
      "source": [
        "import numpy as np\n",
        "import matplotlib.pyplot as plt\n",
        "import os, telegram, json, cv2, time, random, zipfile, shutil\n",
        "from math import floor\n",
        "from PIL import Image\n",
        "\n",
        "import torch\n",
        "import torchvision\n",
        "\n",
        "from torch.utils.data import DataLoader\n",
        "import torch.nn as nn\n",
        "import torch.nn.functional as F\n",
        "import torch.optim as optim\n",
        "\n",
        "from torchvision.models.resnet import resnet50\n",
        "import torchvision.transforms as transforms\n",
        "import torchvision.datasets as datasets\n",
        "\n",
        "from tqdm.notebook import tqdm\n",
        "import warnings\n",
        "warnings.filterwarnings(\"ignore\")\n",
        "\n",
        "device = 'cuda' if torch.cuda.is_available() else 'cpu'\n",
        "print(f\"{device} activated.\")"
      ],
      "execution_count": 36,
      "outputs": [
        {
          "output_type": "stream",
          "name": "stdout",
          "text": [
            "cuda activated.\n"
          ]
        }
      ]
    },
    {
      "cell_type": "code",
      "metadata": {
        "colab": {
          "base_uri": "https://localhost:8080/",
          "height": 150,
          "referenced_widgets": [
            "3650ff138bf64024b05d1538d6b8e625",
            "612da938bda74fbca84c6909dca93395",
            "0493b4f0c7cf41f5b19917c5bacb9067",
            "bf555bfc56704d3caf82061c9b3bb392",
            "e232cd8961bf4685b8ded49971651016",
            "c39dbe50f1c84127b12a1e868b665a0b",
            "14111bb0072e47a384c82a4cfc368138",
            "49169aeafc3b42aba6199f495fcc5e63",
            "6724fb06d59f4e05a1941532e4c414bb",
            "5f69849cc67344028224af8e19d9be75",
            "286ec57ce49447928ef6c0c305ab37e4"
          ]
        },
        "id": "urcq2PHu87jE",
        "outputId": "306e9971-51ef-4942-a0d9-eb67691dc8f3"
      },
      "source": [
        "print(\"Initializing kaggle\")\n",
        "!rm -rf /root/.kaggle && mkdir /root/.kaggle && cp /content/drive/MyDrive/kaggle.json . && mv kaggle.json /root/.kaggle/kaggle.json\n",
        "\n",
        "print(\"Downloading the dataset\")\n",
        "!kaggle datasets download insaiyancvk/nfs-rivals-acc-n-brake\n",
        "\n",
        "print(\"Extracting the dataset\")\n",
        "with zipfile.ZipFile(\"nfs-rivals-acc-n-brake.zip\") as zf:\n",
        "  for member in tqdm(zf.infolist(), desc='Extracting'):\n",
        "    try:\n",
        "      zf.extract(member, \"/content\")\n",
        "    except zipfile.error:\n",
        "      pass\n",
        "!rm nfs-rivals-acc-n-brake.zip"
      ],
      "execution_count": 3,
      "outputs": [
        {
          "output_type": "stream",
          "name": "stdout",
          "text": [
            "Initializing kaggle\n",
            "Downloading the dataset\n",
            "Downloading nfs-rivals-acc-n-brake.zip to /content\n",
            " 99% 1.34G/1.35G [00:10<00:00, 127MB/s]\n",
            "100% 1.35G/1.35G [00:10<00:00, 142MB/s]\n",
            "Extracting the dataset\n"
          ]
        },
        {
          "output_type": "display_data",
          "data": {
            "application/vnd.jupyter.widget-view+json": {
              "model_id": "3650ff138bf64024b05d1538d6b8e625",
              "version_minor": 0,
              "version_major": 2
            },
            "text/plain": [
              "Extracting:   0%|          | 0/6802 [00:00<?, ?it/s]"
            ]
          },
          "metadata": {}
        }
      ]
    },
    {
      "cell_type": "code",
      "metadata": {
        "id": "56WwgEYv76sC",
        "cellView": "form"
      },
      "source": [
        "#@title Telegram bot\n",
        "class send(): \n",
        "\n",
        "  def __init__(self):\n",
        "    f = open ('/content/drive/MyDrive/tel.json', 'r')\n",
        "    self.tel = json.load(f)\n",
        "    f.close()\n",
        "    self.bot = telegram.Bot(token=self.tel['token']) \n",
        "\n",
        "  def msg(self, mesg):\n",
        "    self.bot.sendMessage(chat_id=self.tel['nnboiid'], text=mesg)\n",
        "\n",
        "  def pic(self, path):\n",
        "    self.bot.sendPhoto(chat_id=self.tel['nnboiid'], photo=open(path, 'rb'))\n",
        "bot = send()"
      ],
      "execution_count": 37,
      "outputs": []
    },
    {
      "cell_type": "markdown",
      "metadata": {
        "id": "ccbNVWvmytly"
      },
      "source": [
        "### Defining some constants"
      ]
    },
    {
      "cell_type": "code",
      "metadata": {
        "id": "Ozl_Ar1gAzT9"
      },
      "source": [
        "!mkdir set1 && mv train set1 && mv test set1"
      ],
      "execution_count": 6,
      "outputs": []
    },
    {
      "cell_type": "code",
      "metadata": {
        "colab": {
          "base_uri": "https://localhost:8080/"
        },
        "id": "oBMrWsusv0_H",
        "outputId": "53c14e78-6760-4008-b76e-11a25324a7db"
      },
      "source": [
        "print(\"Initializing classes\")\n",
        "\n",
        "class_list = [\n",
        "              'w',\n",
        "              's']\n",
        "\n",
        "print(\"Creating workspace\")\n",
        "\n",
        "drive = os.path.join(\"drive\",\"MyDrive\")\n",
        "FOLDERS = {\n",
        "    \"TRAIN\": os.path.join(\"set1\",\"train\"),\n",
        "    \"TEST\": os.path.join(\"set1\",\"test\"),\n",
        "    \"WORKSPACE\": os.path.join(drive,\"speedata\",\"workspace\"),\n",
        "    \"MODELS\": os.path.join(drive,\"speedata\",\"workspace\",\"models\"),\n",
        "    \"PERFORMANCE\": os.path.join(drive,\"speedata\",\"workspace\",\"performance\")\n",
        "}\n",
        "\n",
        "for key in FOLDERS:\n",
        "  if not os.path.isdir(FOLDERS[key]):\n",
        "    print(key, \"directory doesn't exist. Creating one.\")\n",
        "    os.mkdir(FOLDERS[key])\n",
        "    print(key, \"directory created.\")"
      ],
      "execution_count": 38,
      "outputs": [
        {
          "output_type": "stream",
          "name": "stdout",
          "text": [
            "Initializing classes\n",
            "Creating workspace\n"
          ]
        }
      ]
    },
    {
      "cell_type": "code",
      "metadata": {
        "id": "VUiCqxbOZ7_7"
      },
      "source": [
        "# SPLIT_FOLDERS = {\n",
        "#     'TRAIN': os.path.join(\"set1\",\"train\"),\n",
        "#     'TRAIN_w': os.path.join(\"set1\",\"train\",\"w\"),\n",
        "#     'TRAIN_s': os.path.join(\"set1\",\"train\",\"s\"),\n",
        "#     'TEST': os.path.join(\"set1\",\"test\"),\n",
        "#     'TEST_w': os.path.join(\"set1\",\"test\",\"w\"),\n",
        "#     'TEST_s': os.path.join(\"set1\",\"test\",\"s\")\n",
        "# }\n",
        "# move_a = os.listdir(SPLIT_FOLDERS['TRAIN_w'])[:floor((len(os.listdir(SPLIT_FOLDERS['TRAIN_a'])))*0.375)]\n",
        "# move_d = os.listdir(SPLIT_FOLDERS['TRAIN_s'])[:floor((len(os.listdir(SPLIT_FOLDERS['TRAIN_d'])))*0.375)]\n",
        "\n",
        "# print(\"Moving 37.5% of train data of set 'a' to test set\")\n",
        "# for path in move_a:\n",
        "#   shutil.move(SPLIT_FOLDERS['TRAIN_a']+\"/\"+path, SPLIT_FOLDERS['TEST_a'])\n",
        "# print(\"Moving 37.5% of train data of set 'd' to test set\")\n",
        "# for path in move_d:\n",
        "#   shutil.move(SPLIT_FOLDERS['TRAIN_d']+\"/\"+path, SPLIT_FOLDERS['TEST_d'])"
      ],
      "execution_count": null,
      "outputs": []
    },
    {
      "cell_type": "markdown",
      "metadata": {
        "id": "kGdmtDrgLNrV"
      },
      "source": [
        "### Defining the transformations on train and test data"
      ]
    },
    {
      "cell_type": "code",
      "metadata": {
        "colab": {
          "base_uri": "https://localhost:8080/"
        },
        "id": "xJseNya9-gMC",
        "outputId": "b961a44b-9039-49eb-e477-f25af7c70d25"
      },
      "source": [
        "print(\"Defining the transformations for the speedy data\")\n",
        "transformations = {\n",
        "    \"TRAIN\": transforms.Compose([\n",
        "                        transforms.Resize([256,256]),\n",
        "                        transforms.ColorJitter(brightness=(0.8,1.5), contrast=(0.8,1.5), saturation=(0.8,1.5)),\n",
        "                        # transforms.RandomInvert(0.5),\n",
        "                        # transforms.RandomRotation(degrees=(-10,10)),\n",
        "                        transforms.ToTensor(),\n",
        "                        transforms.Normalize((0.5,0.5,0.5),(0.5,0.5,0.5))\n",
        "    ]),\n",
        "    \"TEST\": transforms.Compose([\n",
        "                      transforms.Resize([256,256]),\n",
        "                      transforms.ToTensor(),\n",
        "                      transforms.Normalize((0.5,0.5,0.5),(0.5,0.5,0.5))\n",
        "    ])\n",
        "}"
      ],
      "execution_count": 39,
      "outputs": [
        {
          "output_type": "stream",
          "name": "stdout",
          "text": [
            "Defining the transformations for the speedy data\n"
          ]
        }
      ]
    },
    {
      "cell_type": "markdown",
      "metadata": {
        "id": "8iJCW7NkLVTc"
      },
      "source": [
        "### Define dataset of the _speedata_"
      ]
    },
    {
      "cell_type": "code",
      "metadata": {
        "id": "whCbQCikKP39",
        "colab": {
          "base_uri": "https://localhost:8080/"
        },
        "outputId": "82b21ab5-f32d-4c76-fa99-76df184b0891"
      },
      "source": [
        "\n",
        "print(\"Creating a dataset of the speedata\")\n",
        "dataset = {\n",
        "    \"TRAIN\": datasets.ImageFolder(\n",
        "        FOLDERS[\"TRAIN\"],\n",
        "        transform = transformations[\"TRAIN\"]\n",
        "    ),\n",
        "    \"TEST\": datasets.ImageFolder(\n",
        "        FOLDERS[\"TEST\"],\n",
        "        transform = transformations[\"TEST\"]\n",
        "    )\n",
        "}"
      ],
      "execution_count": 40,
      "outputs": [
        {
          "output_type": "stream",
          "name": "stdout",
          "text": [
            "Creating a dataset of the speedata\n"
          ]
        }
      ]
    },
    {
      "cell_type": "markdown",
      "metadata": {
        "id": "LMSmSZ9FLlle"
      },
      "source": [
        "### Create Dataloader of the _speedata_"
      ]
    },
    {
      "cell_type": "code",
      "metadata": {
        "cellView": "form",
        "id": "17ElGBFu9lbZ"
      },
      "source": [
        "BATCH =  32#@param {type:\"integer\"}"
      ],
      "execution_count": 41,
      "outputs": []
    },
    {
      "cell_type": "code",
      "metadata": {
        "colab": {
          "base_uri": "https://localhost:8080/"
        },
        "id": "0XLulVJfKvg-",
        "outputId": "fb478460-f9ab-4a90-8bfc-160fe704e532"
      },
      "source": [
        "print(\"Creating dataloaders\")\n",
        "dataloader = {\n",
        "    \"TRAIN\": DataLoader(\n",
        "        dataset[\"TRAIN\"],\n",
        "        batch_size = BATCH,\n",
        "        shuffle = True\n",
        "    ),\n",
        "    \"TEST\": DataLoader(\n",
        "        dataset[\"TEST\"],\n",
        "        batch_size = BATCH,\n",
        "        shuffle = True\n",
        "    )\n",
        "}\n",
        "print(\"Data preprocessing completed.\")"
      ],
      "execution_count": 42,
      "outputs": [
        {
          "output_type": "stream",
          "name": "stdout",
          "text": [
            "Creating dataloaders\n",
            "Data preprocessing completed.\n"
          ]
        }
      ]
    },
    {
      "cell_type": "markdown",
      "metadata": {
        "id": "q-154QhrLH4m"
      },
      "source": [
        "# The G"
      ]
    },
    {
      "cell_type": "code",
      "metadata": {
        "id": "OEpKt51fMU7V",
        "cellView": "form"
      },
      "source": [
        "#@title Epoch function\n",
        "\n",
        "def epoch(model, test_loader ,train_loader, loss_func, optim, device):\n",
        "\n",
        "  test_loss = 0\n",
        "  test_accuracy = 0\n",
        "  train_loss = 0\n",
        "  train_accuracy = 0\n",
        "\n",
        "  model = model.to(device)\n",
        "\n",
        "  print(\"\\t\\tTraining the Neural Network\")\n",
        "  model.train(True)\n",
        "  for image, label in tqdm(train_loader):\n",
        "      optim.zero_grad()      \n",
        "      output = model(image.to(device))\n",
        "      loss = loss_func(\n",
        "        output,\n",
        "        label.to(device)\n",
        "        )\n",
        "      loss.backward()\n",
        "      optim.step()\n",
        "\n",
        "      accuracy = np.average(\n",
        "            np.argmax(\n",
        "              output.cpu().detach().numpy(), axis=1) == label.cpu().detach().numpy()\n",
        "        )\n",
        "\n",
        "      train_loss += loss.item()/len(train_loader) # training average loss\n",
        "      train_accuracy += accuracy/len(train_loader) # training average accuracy\n",
        "  model.train(False)\n",
        "\n",
        "  print(\"\\t\\tValidating Neural Network\")\n",
        "  model.eval()\n",
        "\n",
        "  for image, label in tqdm(test_loader):\n",
        "\n",
        "      output = model(image.to(device))\n",
        "      loss = loss_func(\n",
        "        output,\n",
        "        label.to(device)\n",
        "      )\n",
        "      \n",
        "      accuracy = np.average(\n",
        "        np.argmax(\n",
        "            output.cpu().detach().numpy(), axis=1) == label.cpu().detach().numpy()\n",
        "        )\n",
        "\n",
        "      test_loss += loss.item()/len(test_loader) # Validation average loss\n",
        "      test_accuracy += accuracy/len(test_loader) # Validation average accuracy\n",
        "      \n",
        "  return (\n",
        "\n",
        "    # TRAIN LOSS\n",
        "    train_loss,\n",
        "\n",
        "    # TRAIN ACCURACY\n",
        "    train_accuracy,\n",
        "\n",
        "    # TEST LOSS, ACCURACY\n",
        "    test_loss,\n",
        "    test_accuracy\n",
        "  )"
      ],
      "execution_count": 43,
      "outputs": []
    },
    {
      "cell_type": "code",
      "metadata": {
        "id": "zUCpviHGNDnU",
        "cellView": "form"
      },
      "source": [
        "EPOCH =  15#@param {type:\"integer\"}"
      ],
      "execution_count": 44,
      "outputs": []
    },
    {
      "cell_type": "code",
      "metadata": {
        "id": "K63sU1ZMzrQ4"
      },
      "source": [
        "!pip install -q pretrainedmodels\n",
        "import pretrainedmodels"
      ],
      "execution_count": null,
      "outputs": []
    },
    {
      "cell_type": "markdown",
      "metadata": {
        "id": "tXaArWWLuQuA"
      },
      "source": [
        "[Reference](https://medium.com/analytics-vidhya/how-to-add-additional-layers-in-a-pre-trained-model-using-pytorch-5627002c75a5)"
      ]
    },
    {
      "cell_type": "code",
      "metadata": {
        "id": "HamY2oshzhrD",
        "cellView": "form"
      },
      "source": [
        "#@title Resnet18 extra layers\n",
        "\n",
        "class Resnet18(nn.Module):\n",
        "  def __init__(self):\n",
        "      super(Resnet18, self).__init__()\n",
        "      self.model =  pretrainedmodels.__dict__['resnet18'](pretrained='imagenet')\n",
        "      \n",
        "      self.classifier_layer = nn.Sequential(\n",
        "          nn.Linear(512 , 256),\n",
        "          nn.BatchNorm1d(256),\n",
        "          nn.Dropout(0.2),\n",
        "          nn.Linear(256 , 128),\n",
        "          nn.Linear(128 , 2)\n",
        "      )\n",
        "\n",
        "  def forward(self, x):\n",
        "    batch_size ,_,_,_ = x.shape     #taking out batch_size from input image\n",
        "    x = self.model.features(x)\n",
        "    x = torch.nn.functional.adaptive_avg_pool2d(x,1).reshape(batch_size,-1)     # then reshaping the batch_size\n",
        "    x = self.classifier_layer(x)\n",
        "    return x\n",
        "# model = Resnet18()\n",
        "# model.fc = nn.Linear(model.fc.in_features,2)\n",
        "# model.fc.register_forward_hook(lambda m, inp, out: F.dropout(out, p=0.5, training=m.training)) # add a dropout layer"
      ],
      "execution_count": null,
      "outputs": []
    },
    {
      "cell_type": "code",
      "metadata": {
        "id": "V1_vNQnWjn9d",
        "cellView": "form"
      },
      "source": [
        "#@title install efficientnet\n",
        "!pip install efficientnet_pytorch"
      ],
      "execution_count": null,
      "outputs": []
    },
    {
      "cell_type": "code",
      "metadata": {
        "id": "NvmYMDUuj7k_",
        "cellView": "form"
      },
      "source": [
        "#@title import efficientnet\n",
        "from efficientnet_pytorch import EfficientNet\n",
        "model = EfficientNet.from_pretrained('efficientnet-b0', num_classes=2)"
      ],
      "execution_count": null,
      "outputs": []
    },
    {
      "cell_type": "code",
      "metadata": {
        "id": "_gnb6GdCql58",
        "cellView": "form"
      },
      "source": [
        "#@title AlexNet [reference](https://github.com/dansuh17/alexnet-pytorch/blob/master/model.py)\n",
        "class AlexNet(nn.Module):\n",
        "    \"\"\"\n",
        "    Neural network model consisting of layers propsed by AlexNet paper.\n",
        "    \"\"\"\n",
        "    def __init__(self, num_classes=2):\n",
        "        \"\"\"\n",
        "        Define and allocate layers for this neural net.\n",
        "        Args:\n",
        "            num_classes (int): number of classes to predict with this model\n",
        "        \"\"\"\n",
        "        super().__init__()\n",
        "        # input size should be : (b x 3 x 227 x 227)\n",
        "        # The image in the original paper states that width and height are 224 pixels, but\n",
        "        # the dimensions after first convolution layer do not lead to 55 x 55.\n",
        "        self.net = nn.Sequential(\n",
        "            nn.Conv2d(in_channels=3, out_channels=96, kernel_size=11, stride=4),  # (b x 96 x 55 x 55)\n",
        "            nn.ReLU(),\n",
        "            nn.LocalResponseNorm(size=5, alpha=0.0001, beta=0.75, k=2),  # section 3.3\n",
        "            nn.MaxPool2d(kernel_size=3, stride=2),  # (b x 96 x 27 x 27)\n",
        "            nn.Conv2d(96, 256, 5, padding=2),  # (b x 256 x 27 x 27)\n",
        "            nn.ReLU(),\n",
        "            nn.LocalResponseNorm(size=5, alpha=0.0001, beta=0.75, k=2),\n",
        "            nn.MaxPool2d(kernel_size=3, stride=2),  # (b x 256 x 13 x 13)\n",
        "            nn.Conv2d(256, 384, 3, padding=1),  # (b x 384 x 13 x 13)\n",
        "            nn.ReLU(),\n",
        "            nn.Conv2d(384, 384, 3, padding=1),  # (b x 384 x 13 x 13)\n",
        "            nn.ReLU(),\n",
        "            nn.Conv2d(384, 256, 3, padding=1),  # (b x 256 x 13 x 13)\n",
        "            nn.ReLU(),\n",
        "            nn.MaxPool2d(kernel_size=3, stride=2),  # (b x 256 x 6 x 6)\n",
        "        )\n",
        "        # classifier is just a name for linear layers\n",
        "        self.classifier = nn.Sequential(\n",
        "            nn.Dropout(p=0.5, inplace=True),\n",
        "            nn.Linear(in_features=(256 * 6 * 6), out_features=4096),\n",
        "            nn.ReLU(),\n",
        "            nn.Dropout(p=0.5, inplace=True),\n",
        "            nn.Linear(in_features=4096, out_features=4096),\n",
        "            nn.ReLU(),\n",
        "            nn.Linear(in_features=4096, out_features=num_classes),\n",
        "        )\n",
        "        self.init_bias()  # initialize bias\n",
        "\n",
        "    def init_bias(self):\n",
        "        for layer in self.net:\n",
        "            if isinstance(layer, nn.Conv2d):\n",
        "                nn.init.normal_(layer.weight, mean=0, std=0.01)\n",
        "                nn.init.constant_(layer.bias, 0)\n",
        "        # original paper = 1 for Conv2d layers 2nd, 4th, and 5th conv layers\n",
        "        nn.init.constant_(self.net[4].bias, 1)\n",
        "        nn.init.constant_(self.net[10].bias, 1)\n",
        "        nn.init.constant_(self.net[12].bias, 1)\n",
        "\n",
        "    def forward(self, x):\n",
        "        \"\"\"\n",
        "        Pass the input through the net.\n",
        "        Args:\n",
        "            x (Tensor): input tensor\n",
        "        Returns:\n",
        "            output (Tensor): output tensor\n",
        "        \"\"\"\n",
        "        x = self.net(x)\n",
        "        x = x.view(-1, 256 * 6 * 6)  # reduce the dimensions for linear layer input\n",
        "        return self.classifier(x)\n",
        "alexnet = AlexNet()"
      ],
      "execution_count": null,
      "outputs": []
    },
    {
      "cell_type": "code",
      "metadata": {
        "colab": {
          "base_uri": "https://localhost:8080/"
        },
        "id": "sZzZIhWC0JCm",
        "outputId": "76660940-5c0a-4961-b122-b0298fcb122e"
      },
      "source": [
        "#@title MobileNetV2\n",
        "torch.hub._validate_not_a_forked_repo=lambda a,b,c: True\n",
        "model = torch.hub.load('pytorch/vision:v0.10.0', 'mobilenet_v2', pretrained=False)\n",
        "model.classifier = nn.Sequential(\n",
        "    nn.Dropout(p=0.2, inplace=False),\n",
        "    nn.Linear(in_features=1280, out_features = 2)\n",
        ")"
      ],
      "execution_count": 46,
      "outputs": [
        {
          "output_type": "stream",
          "name": "stderr",
          "text": [
            "Using cache found in /root/.cache/torch/hub/pytorch_vision_v0.10.0\n"
          ]
        }
      ]
    },
    {
      "cell_type": "code",
      "metadata": {
        "id": "rjiaRU7izpem"
      },
      "source": [
        "NAME = f\"MobileNetV2acc\"\n",
        "LR = 0.0001\n",
        "\n",
        "# model.load_state_dict(torch.load(f\"/content/drive/MyDrive/speedata/workspace/models/{NAME}.pth\"))"
      ],
      "execution_count": 47,
      "outputs": []
    },
    {
      "cell_type": "code",
      "metadata": {
        "id": "lcotW3IhNmar",
        "colab": {
          "base_uri": "https://localhost:8080/",
          "height": 116,
          "referenced_widgets": [
            "b12038dec0284a6799ab2d7ce5b4210e",
            "5db894aa7a07416f86019488fa638e4b",
            "12b4761a24e44e70a7c5b7e5e1aba48c",
            "e04b389029ab4e71a802aa3a2b87c9b8",
            "de0ebb0c508a452cb2ae4b8b7cbf3f81",
            "ca33b5ba4aff4bfd88136bc44cb8d252",
            "479065b4f3394190888ff7aa33eb43da",
            "93697c7e9bb94ebd90a2f3cdb7563137",
            "1d861d4e7350470789ddea438058079b",
            "e61551b059474274ae460a8283e01761",
            "94156edabb68447c8f399e5fc64ae81f"
          ]
        },
        "outputId": "c8d28f4f-e806-4246-f41f-582c8642aa7f"
      },
      "source": [
        "done = False\n",
        "\n",
        "model = model.to(device)\n",
        "\n",
        "print(f\"{NAME} INITIALIZED\")\n",
        "send().msg(f\"{NAME} INITIALIZED\")\n",
        "\n",
        "loss_func = nn.CrossEntropyLoss()\n",
        "optimizer = optim.Adam(model.parameters(), lr=LR)\n",
        "\n",
        "train_loss_vals = []\n",
        "train_accuracy_vals = []\n",
        "test_loss_vals = []\n",
        "test_accuracy_vals = []\n",
        "\n",
        "start = time.time()\n",
        "for ep in range(EPOCH):\n",
        "  messages = ''\n",
        "\n",
        "  print(f\"Epoch: {ep+1}/{EPOCH}\\nLR: {optimizer.param_groups[0]['lr']}\")\n",
        "  messages += f\"\\nEpoch: {ep+1}/{EPOCH}\\nLR: {optimizer.param_groups[0]['lr']}\" # for telegram\n",
        "\n",
        "  vals = epoch(model, dataloader[\"TEST\"], dataloader[\"TRAIN\"], loss_func, optimizer, device)\n",
        "  train_loss_vals.append(vals[0])\n",
        "  train_accuracy_vals.append(vals[1])\n",
        "  test_loss_vals.append(vals[2])\n",
        "  test_accuracy_vals.append(vals[3])\n",
        "\n",
        "  print(f\"Test Loss: {test_loss_vals[-1]:.3f} Test Accuracy: {test_accuracy_vals[-1]:.3f}\")\n",
        "  print(f\"Train Loss: {train_loss_vals[-1]:.3f} Train Accuracy: {train_accuracy_vals[-1]:.3f}\")\n",
        "  messages += f\"\\nTest Loss: {test_loss_vals[-1]:.3f} Test Accuracy: {test_accuracy_vals[-1]:.3f}\" # for telegram\n",
        "  messages += f\"\\nTrain Loss: {train_loss_vals[-1]:.3f} Train Accuracy: {train_accuracy_vals[-1]:.3f}\"\n",
        "  print(f\"Time: {(time.time()-start)/60:.2f} min(s)\")\n",
        "  messages += f\"\\nTime elapsed: {(time.time()-start)/60:.2f} min(s)\" # for telegram\n",
        "  \n",
        "  if len(test_loss_vals)>2:\n",
        "    if all(x > test_loss_vals[-1] for x in test_loss_vals[:-1]):\n",
        "      model_name = os.path.join(FOLDERS[\"MODELS\"],f\"{NAME}.pth\")\n",
        "      \n",
        "      print(f\"Improvement detected. Saving the model\\n\")\n",
        "      messages += f\"\\nImprovement detected. Saving the model\" # for telegram\n",
        "\n",
        "      torch.save(model.state_dict(),model_name)\n",
        "  fig, a = plt.subplots(2,2, squeeze=False, figsize=(14,7))\n",
        "  a[0][0].plot(train_loss_vals)\n",
        "  a[0][0].set_title(\"Train Loss\")\n",
        "  a[0][0].grid(True)\n",
        "  a[0][1].plot(train_accuracy_vals)\n",
        "  a[0][1].set_title(\"Train accuracy\")\n",
        "  a[0][1].grid(True)\n",
        "  a[1][0].plot(test_loss_vals)\n",
        "  a[1][0].set_title(\"Test loss\")\n",
        "  a[1][0].grid(True)\n",
        "  a[1][1].plot(test_accuracy_vals)\n",
        "  a[1][1].set_title(\"Test accuracy\")\n",
        "  a[1][1].grid(True)\n",
        "  fig.suptitle(f\"{NAME} {BATCH}/batch, {EPOCH} Epochs, LR: {str(optimizer.param_groups[0]['lr']).replace('0.','')}\\n\")\n",
        "  # plt.show()\n",
        "  if ep>2:\n",
        "    performanceplot = f\"PERFORMANCE.jpg\"\n",
        "    fig.savefig(performanceplot)\n",
        "    send().pic(performanceplot)\n",
        "  send().msg(messages)\n",
        "  send().msg('———————————————————————')\n",
        "\n",
        "print(f\"Total time taken to train for {EPOCH} epochs on {NAME}: {(time.time()-start)/60:.2f} min(s)\")\n",
        "send().msg(f\"Total time taken to train for {EPOCH} epochs {NAME}: {(time.time()-start)/60:.2f} min(s)\")\n",
        "print(f\"{max(train_accuracy_vals)*100:.2f}% highest train accuracy at {train_accuracy_vals.index(max(train_accuracy_vals))} epoch and {max(test_accuracy_vals)*100:.2f}% highest test accuracy at {test_accuracy_vals.index(max(test_accuracy_vals))} epoch\")\n",
        "send().msg(f\"{max(train_accuracy_vals)*100:.2f}% highest train accuracy at {train_accuracy_vals.index(max(train_accuracy_vals))} epoch and {max(test_accuracy_vals)*100:.2f}% highest test accuracy at {test_accuracy_vals.index(max(test_accuracy_vals))} epoch\")\n",
        "done = True"
      ],
      "execution_count": null,
      "outputs": [
        {
          "output_type": "stream",
          "name": "stdout",
          "text": [
            "MobileNetV2acc INITIALIZED\n",
            "Epoch: 1/15\n",
            "LR: 0.0001\n",
            "\t\tTraining the Neural Network\n"
          ]
        },
        {
          "output_type": "display_data",
          "data": {
            "application/vnd.jupyter.widget-view+json": {
              "model_id": "b12038dec0284a6799ab2d7ce5b4210e",
              "version_minor": 0,
              "version_major": 2
            },
            "text/plain": [
              "  0%|          | 0/170 [00:00<?, ?it/s]"
            ]
          },
          "metadata": {}
        }
      ]
    },
    {
      "cell_type": "code",
      "metadata": {
        "id": "Fg8bNpYhR2E4"
      },
      "source": [
        "fig, a = plt.subplots(2,2, squeeze=False, figsize=(14,7))\n",
        "a[0][0].plot(train_loss_vals)\n",
        "a[0][0].set_title(\"Train Loss\")\n",
        "a[0][0].grid(True)\n",
        "a[0][1].plot(train_accuracy_vals)\n",
        "a[0][1].set_title(\"Train accuracy\")\n",
        "a[0][1].grid(True)\n",
        "a[1][0].plot(test_loss_vals)\n",
        "a[1][0].set_title(\"Test loss\")\n",
        "a[1][0].grid(True)\n",
        "a[1][1].plot(test_accuracy_vals)\n",
        "a[1][1].set_title(\"Test accuracy\")\n",
        "a[1][1].grid(True)\n",
        "fig.suptitle(f\"{NAME} {BATCH}/batch, {EPOCH} Epochs, LR: {str(optimizer.param_groups[0]['lr']).replace('0.','')}\\n\")\n",
        "plt.show()\n",
        "performanceplot = f\"{FOLDERS['PERFORMANCE']}/{NAME}.jpg\"\n",
        "fig.savefig(performanceplot)\n",
        "send().pic(performanceplot)"
      ],
      "execution_count": null,
      "outputs": []
    },
    {
      "cell_type": "code",
      "metadata": {
        "id": "goCNO7kT9Tvf"
      },
      "source": [
        "%reset"
      ],
      "execution_count": null,
      "outputs": []
    }
  ]
}